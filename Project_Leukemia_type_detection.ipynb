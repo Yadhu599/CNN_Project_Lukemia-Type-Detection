{
  "metadata": {
    "kernelspec": {
      "language": "python",
      "display_name": "Python 3",
      "name": "python3"
    },
    "language_info": {
      "name": "python",
      "version": "3.10.14",
      "mimetype": "text/x-python",
      "codemirror_mode": {
        "name": "ipython",
        "version": 3
      },
      "pygments_lexer": "ipython3",
      "nbconvert_exporter": "python",
      "file_extension": ".py"
    },
    "kaggle": {
      "accelerator": "none",
      "dataSources": [
        {
          "sourceId": 2175623,
          "sourceType": "datasetVersion",
          "datasetId": 1306086
        }
      ],
      "dockerImageVersionId": 30786,
      "isInternetEnabled": false,
      "language": "python",
      "sourceType": "notebook",
      "isGpuEnabled": false
    },
    "colab": {
      "name": "Project_Leukemia_type_detection",
      "provenance": []
    }
  },
  "nbformat_minor": 0,
  "nbformat": 4,
  "cells": [
    {
      "source": [
        "# IMPORTANT: RUN THIS CELL IN ORDER TO IMPORT YOUR KAGGLE DATA SOURCES,\n",
        "# THEN FEEL FREE TO DELETE THIS CELL.\n",
        "# NOTE: THIS NOTEBOOK ENVIRONMENT DIFFERS FROM KAGGLE'S PYTHON\n",
        "# ENVIRONMENT SO THERE MAY BE MISSING LIBRARIES USED BY YOUR\n",
        "# NOTEBOOK.\n",
        "import kagglehub\n",
        "mehradaria_leukemia_path = kagglehub.dataset_download('mehradaria/leukemia')\n",
        "\n",
        "print('Data source import complete.')\n"
      ],
      "metadata": {
        "id": "lFN-FXPih1an"
      },
      "cell_type": "code",
      "outputs": [],
      "execution_count": null
    },
    {
      "cell_type": "markdown",
      "source": [
        "**IMPORTING NECESSARY PACKAGES**"
      ],
      "metadata": {
        "id": "jn2JRTeGh1aq"
      }
    },
    {
      "cell_type": "code",
      "source": [
        "import pandas as pd\n",
        "import numpy as np\n",
        "import os\n",
        "from sklearn.model_selection import train_test_split\n",
        "from skimage.transform import resize\n",
        "from skimage.io import imread\n",
        "import os\n",
        "from keras.models import Sequential\n",
        "from keras.layers import Conv2D,Dense,MaxPool2D,Flatten\n",
        "import matplotlib.pyplot as plt\n",
        "import warnings"
      ],
      "metadata": {
        "trusted": true,
        "id": "Qv0zODW4h1as"
      },
      "outputs": [],
      "execution_count": null
    },
    {
      "cell_type": "markdown",
      "source": [
        "**Loading and PreProcessing Data**"
      ],
      "metadata": {
        "id": "KD_T-kmBh1as"
      }
    },
    {
      "cell_type": "code",
      "source": [
        "datadir=\"/kaggle/input/leukemia/Segmented\"\n",
        "os.listdir(datadir)"
      ],
      "metadata": {
        "trusted": true,
        "execution": {
          "iopub.status.busy": "2024-10-22T02:57:34.169367Z",
          "iopub.execute_input": "2024-10-22T02:57:34.169836Z",
          "iopub.status.idle": "2024-10-22T02:57:34.179335Z",
          "shell.execute_reply.started": "2024-10-22T02:57:34.169786Z",
          "shell.execute_reply": "2024-10-22T02:57:34.178141Z"
        },
        "id": "9Cd-jRo0h1at"
      },
      "outputs": [],
      "execution_count": null
    },
    {
      "cell_type": "code",
      "source": [
        "X = []\n",
        "y = []\n",
        "categories = ['Pro','Pre','Benign','Early']\n",
        "for category in categories:\n",
        "    path = os.path.join(datadir, category)\n",
        "    images = os.listdir(path)\n",
        "    for img in images:\n",
        "        imgpath = os.path.join(path, img)\n",
        "        img_array = imread(imgpath)\n",
        "        img_resized = resize(img_array, (150, 150, 3))\n",
        "        X.append(img_resized)\n",
        "        y.append(categories.index(category))\n",
        "    print(\"Loaded:\", category)"
      ],
      "metadata": {
        "trusted": true,
        "execution": {
          "iopub.status.busy": "2024-10-22T02:57:34.281577Z",
          "iopub.execute_input": "2024-10-22T02:57:34.282645Z",
          "iopub.status.idle": "2024-10-22T02:58:09.78806Z",
          "shell.execute_reply.started": "2024-10-22T02:57:34.282571Z",
          "shell.execute_reply": "2024-10-22T02:58:09.786699Z"
        },
        "id": "Qvuohkl8h1at"
      },
      "outputs": [],
      "execution_count": null
    },
    {
      "cell_type": "markdown",
      "source": [
        "**Performing Train Test Split**"
      ],
      "metadata": {
        "id": "_SMwJ3jnh1au"
      }
    },
    {
      "cell_type": "code",
      "source": [
        "X_train,X_test,y_train,y_test=train_test_split(X,y,test_size=0.3,random_state=1)"
      ],
      "metadata": {
        "trusted": true,
        "execution": {
          "iopub.status.busy": "2024-10-22T02:58:09.790351Z",
          "iopub.execute_input": "2024-10-22T02:58:09.79084Z",
          "iopub.status.idle": "2024-10-22T02:58:09.800849Z",
          "shell.execute_reply.started": "2024-10-22T02:58:09.790786Z",
          "shell.execute_reply": "2024-10-22T02:58:09.799644Z"
        },
        "id": "S6J31SgGh1au"
      },
      "outputs": [],
      "execution_count": null
    },
    {
      "cell_type": "markdown",
      "source": [
        "**Converting into array**"
      ],
      "metadata": {
        "id": "fWt3goE1h1au"
      }
    },
    {
      "cell_type": "code",
      "source": [
        "X_train=np.array(X_train)\n",
        "X_test=np.array(X_test)\n",
        "y_train=np.array(y_train)\n",
        "y_test=np.array(y_test)"
      ],
      "metadata": {
        "trusted": true,
        "execution": {
          "iopub.status.busy": "2024-10-22T02:58:09.80212Z",
          "iopub.execute_input": "2024-10-22T02:58:09.802585Z",
          "iopub.status.idle": "2024-10-22T02:58:10.364421Z",
          "shell.execute_reply.started": "2024-10-22T02:58:09.802537Z",
          "shell.execute_reply": "2024-10-22T02:58:10.363111Z"
        },
        "id": "sB7sFb_8h1av"
      },
      "outputs": [],
      "execution_count": null
    },
    {
      "cell_type": "markdown",
      "source": [
        "**Checking the shape**"
      ],
      "metadata": {
        "id": "K1f6F7-Ch1av"
      }
    },
    {
      "cell_type": "code",
      "source": [
        "X_train.shape,y_train.shape"
      ],
      "metadata": {
        "trusted": true,
        "execution": {
          "iopub.status.busy": "2024-10-22T02:58:10.36681Z",
          "iopub.execute_input": "2024-10-22T02:58:10.367194Z",
          "iopub.status.idle": "2024-10-22T02:58:10.374404Z",
          "shell.execute_reply.started": "2024-10-22T02:58:10.367155Z",
          "shell.execute_reply": "2024-10-22T02:58:10.373179Z"
        },
        "id": "ToqEZHd0h1av"
      },
      "outputs": [],
      "execution_count": null
    },
    {
      "cell_type": "code",
      "source": [
        "X_test.shape,y_test.shape"
      ],
      "metadata": {
        "trusted": true,
        "execution": {
          "iopub.status.busy": "2024-10-22T02:58:10.376158Z",
          "iopub.execute_input": "2024-10-22T02:58:10.376492Z",
          "iopub.status.idle": "2024-10-22T02:58:10.387151Z",
          "shell.execute_reply.started": "2024-10-22T02:58:10.376458Z",
          "shell.execute_reply": "2024-10-22T02:58:10.386036Z"
        },
        "id": "HxQ1oB9th1av"
      },
      "outputs": [],
      "execution_count": null
    },
    {
      "cell_type": "markdown",
      "source": [
        "**Building the Model**"
      ],
      "metadata": {
        "id": "KouoPYcbh1aw"
      }
    },
    {
      "cell_type": "code",
      "source": [
        "model=Sequential()\n",
        "model.add(Conv2D(32,(3,3),input_shape=(150,150,3),activation='relu'))\n",
        "model.add(MaxPool2D(2,2))\n",
        "model.add(Conv2D(64,(3,3),activation='relu'))\n",
        "model.add(MaxPool2D(2,2))\n",
        "model.add(Flatten())\n",
        "model.add(Dense(128,activation='relu'))\n",
        "model.add(Dense(4,activation='softmax'))"
      ],
      "metadata": {
        "trusted": true,
        "execution": {
          "iopub.status.busy": "2024-10-22T02:58:10.388673Z",
          "iopub.execute_input": "2024-10-22T02:58:10.389078Z",
          "iopub.status.idle": "2024-10-22T02:58:10.498149Z",
          "shell.execute_reply.started": "2024-10-22T02:58:10.38903Z",
          "shell.execute_reply": "2024-10-22T02:58:10.497034Z"
        },
        "id": "QbB3FaB-h1aw"
      },
      "outputs": [],
      "execution_count": null
    },
    {
      "cell_type": "code",
      "source": [
        "model.compile(optimizer='adam',loss='sparse_categorical_crossentropy',metrics=['accuracy'])"
      ],
      "metadata": {
        "trusted": true,
        "execution": {
          "iopub.status.busy": "2024-10-22T02:58:10.499567Z",
          "iopub.execute_input": "2024-10-22T02:58:10.501048Z",
          "iopub.status.idle": "2024-10-22T02:58:10.511592Z",
          "shell.execute_reply.started": "2024-10-22T02:58:10.500998Z",
          "shell.execute_reply": "2024-10-22T02:58:10.5104Z"
        },
        "id": "wZ3THNX0h1aw"
      },
      "outputs": [],
      "execution_count": null
    },
    {
      "cell_type": "code",
      "source": [
        "model.fit(X_train,y_train,epochs=20,batch_size=12)"
      ],
      "metadata": {
        "trusted": true,
        "execution": {
          "iopub.status.busy": "2024-10-22T02:58:10.513288Z",
          "iopub.execute_input": "2024-10-22T02:58:10.513825Z",
          "iopub.status.idle": "2024-10-22T03:21:38.3878Z",
          "shell.execute_reply.started": "2024-10-22T02:58:10.513738Z",
          "shell.execute_reply": "2024-10-22T03:21:38.386531Z"
        },
        "id": "YK68pl3oh1aw"
      },
      "outputs": [],
      "execution_count": null
    },
    {
      "cell_type": "code",
      "source": [
        "model.evaluate(X_test,y_test)"
      ],
      "metadata": {
        "trusted": true,
        "execution": {
          "iopub.status.busy": "2024-10-22T03:21:45.148825Z",
          "iopub.execute_input": "2024-10-22T03:21:45.149426Z",
          "iopub.status.idle": "2024-10-22T03:21:50.555187Z",
          "shell.execute_reply.started": "2024-10-22T03:21:45.149377Z",
          "shell.execute_reply": "2024-10-22T03:21:50.554145Z"
        },
        "id": "SHyVmzKph1ax"
      },
      "outputs": [],
      "execution_count": null
    },
    {
      "cell_type": "markdown",
      "source": [
        "**Prediction**"
      ],
      "metadata": {
        "id": "hz31niG5h1ax"
      }
    },
    {
      "cell_type": "code",
      "source": [
        "img=imread(\"/kaggle/input/leukemia/Segmented/Pre/WBC-Malignant-Pre-001.jpg\")\n",
        "plt.imshow(img)"
      ],
      "metadata": {
        "trusted": true,
        "execution": {
          "iopub.status.busy": "2024-10-22T03:24:29.362181Z",
          "iopub.execute_input": "2024-10-22T03:24:29.362644Z",
          "iopub.status.idle": "2024-10-22T03:24:29.68943Z",
          "shell.execute_reply.started": "2024-10-22T03:24:29.36259Z",
          "shell.execute_reply": "2024-10-22T03:24:29.68816Z"
        },
        "id": "aOIk1fkdh1ax"
      },
      "outputs": [],
      "execution_count": null
    },
    {
      "cell_type": "code",
      "source": [
        "img.shape"
      ],
      "metadata": {
        "trusted": true,
        "execution": {
          "iopub.status.busy": "2024-10-22T03:24:35.429816Z",
          "iopub.execute_input": "2024-10-22T03:24:35.430229Z",
          "iopub.status.idle": "2024-10-22T03:24:35.437781Z",
          "shell.execute_reply.started": "2024-10-22T03:24:35.430191Z",
          "shell.execute_reply": "2024-10-22T03:24:35.436648Z"
        },
        "id": "zSN87JUfh1ax"
      },
      "outputs": [],
      "execution_count": null
    },
    {
      "cell_type": "code",
      "source": [
        "img=resize(img,(150,150,3))\n",
        "img.shape"
      ],
      "metadata": {
        "trusted": true,
        "execution": {
          "iopub.status.busy": "2024-10-22T03:24:38.310001Z",
          "iopub.execute_input": "2024-10-22T03:24:38.310441Z",
          "iopub.status.idle": "2024-10-22T03:24:38.329781Z",
          "shell.execute_reply.started": "2024-10-22T03:24:38.310401Z",
          "shell.execute_reply": "2024-10-22T03:24:38.328626Z"
        },
        "id": "L6TpXu9vh1ax"
      },
      "outputs": [],
      "execution_count": null
    },
    {
      "cell_type": "code",
      "source": [
        "img=img.reshape(1,150,150,3)\n",
        "img.shape"
      ],
      "metadata": {
        "trusted": true,
        "execution": {
          "iopub.status.busy": "2024-10-22T03:24:40.950829Z",
          "iopub.execute_input": "2024-10-22T03:24:40.951644Z",
          "iopub.status.idle": "2024-10-22T03:24:40.958656Z",
          "shell.execute_reply.started": "2024-10-22T03:24:40.951582Z",
          "shell.execute_reply": "2024-10-22T03:24:40.957546Z"
        },
        "id": "ejnQTWGch1ax"
      },
      "outputs": [],
      "execution_count": null
    },
    {
      "cell_type": "code",
      "source": [
        "prediction=model.predict(img)\n",
        "prediction\n",
        "ind=prediction.argmax()\n",
        "categories[ind]"
      ],
      "metadata": {
        "trusted": true,
        "execution": {
          "iopub.status.busy": "2024-10-22T03:24:42.921385Z",
          "iopub.execute_input": "2024-10-22T03:24:42.921868Z",
          "iopub.status.idle": "2024-10-22T03:24:43.368096Z",
          "shell.execute_reply.started": "2024-10-22T03:24:42.921779Z",
          "shell.execute_reply": "2024-10-22T03:24:43.367039Z"
        },
        "id": "IapRtoIph1ax"
      },
      "outputs": [],
      "execution_count": null
    },
    {
      "cell_type": "code",
      "source": [
        "model.save(\"leukemia.h5\")"
      ],
      "metadata": {
        "trusted": true,
        "execution": {
          "iopub.status.busy": "2024-10-22T03:25:09.184837Z",
          "iopub.execute_input": "2024-10-22T03:25:09.185274Z",
          "iopub.status.idle": "2024-10-22T03:25:10.083516Z",
          "shell.execute_reply.started": "2024-10-22T03:25:09.185234Z",
          "shell.execute_reply": "2024-10-22T03:25:10.082036Z"
        },
        "id": "oO1vtiyZh1ay"
      },
      "outputs": [],
      "execution_count": null
    }
  ]
}